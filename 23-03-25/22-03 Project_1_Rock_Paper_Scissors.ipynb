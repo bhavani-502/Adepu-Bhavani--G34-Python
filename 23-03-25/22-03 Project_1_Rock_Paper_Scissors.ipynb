{
 "cells": [
  {
   "cell_type": "markdown",
   "id": "10c7113b",
   "metadata": {},
   "source": [
    "\n",
    "# Rock-Paper-Scissors - Milestone Project\n",
    "\n",
    "## Introduction\n",
    "This project will guide you through implementing a simple **Rock-Paper-Scissors** game using **Classes and Objects**. \n",
    "\n",
    "You will complete the tasks step by step, testing each part before moving to the next.\n"
   ]
  },
  {
   "cell_type": "markdown",
   "id": "369198a5",
   "metadata": {},
   "source": [
    "\n",
    "## Task 1: Create the Player Class\n",
    "\n",
    "**Instructions:**\n",
    "1. Define a class `Player` with:\n",
    "   - `name` (string) to store the player's name.\n",
    "   - `score` (integer) initialized to 0.\n",
    "   - A method `choose_move()` that asks for user input (**rock, paper, or scissors**) and returns the choice.\n",
    "2. Validate user input (must be rock, paper, or scissors).\n",
    "\n",
    "**Test Case:**\n",
    "- Create a `Player` object and call `choose_move()`.\n"
   ]
  },
  {
   "cell_type": "code",
   "execution_count": 1,
   "id": "2838669c",
   "metadata": {},
   "outputs": [],
   "source": [
    "class Player:\n",
    "    def __init__(self, name):\n",
    "        self.name = name\n",
    "        self.score = 0\n",
    "        pass  # TODO: Initialize name and score\n",
    "\n",
    "    def choose_move(self):\n",
    "        player_choice = input().lower()\n",
    "        choose_move = [\"rock\" , \"paper\" , \"scissors\"]\n",
    "        if player_choice in choose_move:\n",
    "            return player_choice\n",
    "        else:\n",
    "            return \"choose valid option\"\n",
    "        pass  # TODO: Get valid move from user\n",
    "\n",
    "\n"
   ]
  },
  {
   "cell_type": "code",
   "execution_count": 3,
   "id": "7e61b79d",
   "metadata": {},
   "outputs": [
    {
     "name": "stdout",
     "output_type": "stream",
     "text": [
      "choose valid option\n"
     ]
    }
   ],
   "source": [
    "# Test Case\n",
    "player1 = Player(\"Alice\")\n",
    "print(player1.choose_move())  # Expected: rock, paper, or scissors (user input)"
   ]
  },
  {
   "cell_type": "markdown",
   "id": "405e88a4",
   "metadata": {},
   "source": [
    "\n",
    "## Task 2: Create the Computer Class\n",
    "\n",
    "**Instructions:**\n",
    "1. Define a class `Computer` that **inherits** from `Player`.\n",
    "2. Override the `choose_move()` method to return a random choice of rock, paper, or scissors.\n",
    "\n",
    "**Test Case:**\n",
    "- Create a `Computer` object and call `choose_move()` multiple times to check randomness.\n"
   ]
  },
  {
   "cell_type": "code",
   "execution_count": 15,
   "id": "d216adf4",
   "metadata": {},
   "outputs": [],
   "source": [
    "import random\n",
    "\n",
    "class Computer(Player):\n",
    "    def choose_move(self):\n",
    "        choose_move = [\"rock\" , \"paper\" , \"scissors\"]\n",
    "        return random.choice(choose_move)\n",
    "        pass  # TODO: Return a random choice\n",
    "\n",
    "\n"
   ]
  },
  {
   "cell_type": "code",
   "execution_count": 22,
   "id": "fcdeab2c",
   "metadata": {},
   "outputs": [
    {
     "name": "stdout",
     "output_type": "stream",
     "text": [
      "scissors\n"
     ]
    }
   ],
   "source": [
    "# Test Case\n",
    "computer = Computer(\"AI\")\n",
    "print(computer.choose_move())  # Expected: Randomly rock, paper, or scissors"
   ]
  },
  {
   "cell_type": "markdown",
   "id": "be1a3bfd",
   "metadata": {},
   "source": [
    "\n",
    "## Task 3: Implement Game Logic\n",
    "\n",
    "**Instructions:**\n",
    "1. Define a function `determine_winner(player_choice, computer_choice)`. \n",
    "2. Use game rules:\n",
    "   - Rock beats Scissors\n",
    "   - Scissors beat Paper\n",
    "   - Paper beats Rock\n",
    "3. Return \"Player wins\", \"Computer wins\", or \"It's a tie\".\n",
    "\n",
    "**Test Case:**\n",
    "- Call `determine_winner()` with different move combinations.\n"
   ]
  },
  {
   "cell_type": "code",
   "execution_count": 29,
   "id": "9fea4e4c",
   "metadata": {},
   "outputs": [],
   "source": [
    "def determine_winner(player_choice, computer_choice):\n",
    "    if (player_choice==\"rock\" and computer_choice==\"scissors\") or (player_choice==\"paper\" and computer_choice==\"rock\"):\n",
    "        return \"Player wins\" \n",
    "    elif(player_choice==\"scissors\" and computer_choice==\"rock\"):\n",
    "        return \"Computer wins\"\n",
    "    else:\n",
    "        return \"Tie\"\n",
    "\n",
    "\n",
    "\n"
   ]
  },
  {
   "cell_type": "code",
   "execution_count": 30,
   "id": "d1bcb7b2",
   "metadata": {},
   "outputs": [
    {
     "name": "stdout",
     "output_type": "stream",
     "text": [
      "Player wins\n",
      "Player wins\n",
      "Computer wins\n",
      "Tie\n"
     ]
    }
   ],
   "source": [
    "# Test Cases\n",
    "print(determine_winner(\"rock\", \"scissors\"))  # Expected: Player wins\n",
    "print(determine_winner(\"paper\", \"rock\"))  # Expected: Player wins\n",
    "print(determine_winner(\"scissors\", \"rock\"))  # Expected: Computer wins\n",
    "print(determine_winner(\"rock\", \"rock\")) # Expected: Tie"
   ]
  },
  {
   "cell_type": "markdown",
   "id": "89b553ff",
   "metadata": {},
   "source": [
    "\n",
    "## Task 4: Implement Game Loop\n",
    "\n",
    "**Instructions:**\n",
    "1. Create a class `Game` to manage the game.\n",
    "2. The game should:\n",
    "   - Ask the player for their move.\n",
    "   - Get the computer's move.\n",
    "   - Determine the winner.\n",
    "   - Track scores (best of 3 rounds).\n",
    "   - Ask if the player wants to play again.\n",
    "\n",
    "**Test Case:**\n",
    "- Run the game loop and check for correct scorekeeping.\n"
   ]
  },
  {
   "cell_type": "code",
   "execution_count": 12,
   "id": "ea7e113d",
   "metadata": {},
   "outputs": [
    {
     "name": "stdout",
     "output_type": "stream",
     "text": [
      "\n",
      "Round 1\n"
     ]
    },
    {
     "name": "stdout",
     "output_type": "stream",
     "text": [
      "Computer chooses: scissors\n",
      "You win this round!\n",
      "Score: Player 1 - Computer 0\n",
      "\n",
      "Round 2\n",
      "Computer chooses: scissors\n",
      "Computer wins this round!\n",
      "Score: Player 1 - Computer 1\n",
      "\n",
      "Round 3\n",
      "Computer chooses: paper\n",
      "You win this round!\n",
      "Score: Player 2 - Computer 1\n",
      "\n",
      "Congratulations! You won the game!\n",
      "Thanks for playing! Goodbye.\n"
     ]
    }
   ],
   "source": [
    "import random\n",
    "\n",
    "class Game:\n",
    "    def __init__(self):\n",
    "        # Initialize scores for both player and computer\n",
    "        self.player_score = 0\n",
    "        self.computer_score = 0\n",
    "        self.rounds_played = 0\n",
    "\n",
    "    def get_computer_move(self):\n",
    "        # The computer randomly chooses rock, paper, or scissors\n",
    "        return random.choice([\"rock\", \"paper\", \"scissors\"])\n",
    "\n",
    "    def determine_winner(self, player_move, computer_move):\n",
    "        # Determine the winner of the round\n",
    "        if player_move == computer_move:\n",
    "            return \"draw\"\n",
    "        elif (player_move == \"rock\" and computer_move == \"scissors\") or \\\n",
    "             (player_move == \"paper\" and computer_move == \"rock\") or \\\n",
    "             (player_move == \"scissors\" and computer_move == \"paper\"):\n",
    "            return \"player\"\n",
    "        else:\n",
    "            return \"computer\"\n",
    "\n",
    "    def play_round(self):\n",
    "        # Get player's move\n",
    "        player_move = input(\"Enter your move (rock, paper, or scissors): \").lower()\n",
    "        \n",
    "        # Get computer's move\n",
    "        computer_move = self.get_computer_move()\n",
    "        print(f\"Computer chooses: {computer_move}\")\n",
    "        \n",
    "        # Determine winner and update score\n",
    "        winner = self.determine_winner(player_move, computer_move)\n",
    "        if winner == \"player\":\n",
    "            self.player_score += 1\n",
    "            print(\"You win this round!\")\n",
    "        elif winner == \"computer\":\n",
    "            self.computer_score += 1\n",
    "            print(\"Computer wins this round!\")\n",
    "        else:\n",
    "            print(\"This round is a draw!\")\n",
    "        \n",
    "        self.rounds_played += 1\n",
    "\n",
    "    def print_scores(self):\n",
    "        print(f\"Score: Player {self.player_score} - Computer {self.computer_score}\")\n",
    "\n",
    "    def play_game(self):\n",
    "        # Main game loop\n",
    "        while self.rounds_played < 3:\n",
    "            print(\"\\nRound\", self.rounds_played + 1)\n",
    "            self.play_round()\n",
    "            self.print_scores()\n",
    "\n",
    "        if self.player_score > self.computer_score:\n",
    "            print(\"\\nCongratulations! You won the game!\")\n",
    "        elif self.player_score < self.computer_score:\n",
    "            print(\"\\nComputer wins the game!\")\n",
    "        else:\n",
    "            print(\"\\nThe game is a draw!\")\n",
    "\n",
    "        # Ask if the player wants to play again\n",
    "        play_again = input(\"\\nDo you want to play again? (yes/no): \").lower()\n",
    "        if play_again == \"yes\":\n",
    "            self.reset_game()\n",
    "            self.play_game()\n",
    "        else:\n",
    "            print(\"Thanks for playing! Goodbye.\")\n",
    "\n",
    "    def reset_game(self):\n",
    "        # Reset the scores for a new game\n",
    "        self.player_score = 0\n",
    "        self.computer_score = 0\n",
    "        self.rounds_played = 0\n",
    "\n",
    "\n",
    "if __name__ == \"__main__\":\n",
    "    # Create a Game instance and start playing\n",
    "    game = Game()\n",
    "    game.play_game()\n",
    "        \n",
    "\n",
    "    \n"
   ]
  },
  {
   "cell_type": "markdown",
   "id": "58f9aa5c",
   "metadata": {},
   "source": [
    "\n",
    "## Final Task: Add Replay Option\n",
    "\n",
    "**Instructions:**\n",
    "1. Modify `Game` class to ask if the user wants to play again.\n",
    "2. If yes, reset scores and start a new game.\n",
    "\n",
    "**Test Case:**\n",
    "- Run the game and test replay functionality.\n"
   ]
  },
  {
   "cell_type": "code",
   "execution_count": 13,
   "id": "6e420bfc",
   "metadata": {},
   "outputs": [],
   "source": [
    "def reset_game(self):\n",
    "        # Reset the scores for a new game\n",
    "        self.player_score = 0\n",
    "        self.computer_score = 0\n",
    "        self.rounds_played = 0"
   ]
  }
 ],
 "metadata": {
  "kernelspec": {
   "display_name": "Python 3",
   "language": "python",
   "name": "python3"
  },
  "language_info": {
   "codemirror_mode": {
    "name": "ipython",
    "version": 3
   },
   "file_extension": ".py",
   "mimetype": "text/x-python",
   "name": "python",
   "nbconvert_exporter": "python",
   "pygments_lexer": "ipython3",
   "version": "3.13.2"
  }
 },
 "nbformat": 4,
 "nbformat_minor": 5
}
